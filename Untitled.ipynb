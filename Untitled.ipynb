{
 "cells": [
  {
   "cell_type": "code",
   "execution_count": 1,
   "id": "3a4253fe",
   "metadata": {},
   "outputs": [
    {
     "name": "stdout",
     "output_type": "stream",
     "text": [
      "Collecting pgcli\n",
      "  Downloading pgcli-3.5.0-py3-none-any.whl (80 kB)\n",
      "\u001b[2K     \u001b[90m━━━━━━━━━━━━━━━━━━━━━━━━━━━━━━━━━━━━━━━━\u001b[0m \u001b[32m80.8/80.8 kB\u001b[0m \u001b[31m7.4 MB/s\u001b[0m eta \u001b[36m0:00:00\u001b[0m\n",
      "\u001b[?25hCollecting pgspecial>=2.0.0\n",
      "  Downloading pgspecial-2.0.1-py3-none-any.whl (35 kB)\n",
      "Collecting pendulum>=2.1.0\n",
      "  Downloading pendulum-2.1.2-cp39-cp39-manylinux1_x86_64.whl (155 kB)\n",
      "\u001b[2K     \u001b[90m━━━━━━━━━━━━━━━━━━━━━━━━━━━━━━━━━━━━━━\u001b[0m \u001b[32m155.3/155.3 kB\u001b[0m \u001b[31m21.0 MB/s\u001b[0m eta \u001b[36m0:00:00\u001b[0m\n",
      "\u001b[?25hRequirement already satisfied: click>=4.1 in /home/testuser/anaconda3/lib/python3.9/site-packages (from pgcli) (8.0.4)\n",
      "Requirement already satisfied: Pygments>=2.0 in /home/testuser/anaconda3/lib/python3.9/site-packages (from pgcli) (2.11.2)\n",
      "Collecting sqlparse<0.5,>=0.3.0\n",
      "  Downloading sqlparse-0.4.3-py3-none-any.whl (42 kB)\n",
      "\u001b[2K     \u001b[90m━━━━━━━━━━━━━━━━━━━━━━━━━━━━━━━━━━━━━━━━\u001b[0m \u001b[32m42.8/42.8 kB\u001b[0m \u001b[31m6.9 MB/s\u001b[0m eta \u001b[36m0:00:00\u001b[0m\n",
      "\u001b[?25hCollecting configobj>=5.0.6\n",
      "  Downloading configobj-5.0.8-py2.py3-none-any.whl (36 kB)\n",
      "Collecting setproctitle>=1.1.9\n",
      "  Downloading setproctitle-1.3.2-cp39-cp39-manylinux_2_5_x86_64.manylinux1_x86_64.manylinux_2_17_x86_64.manylinux2014_x86_64.whl (30 kB)\n",
      "Collecting psycopg>=3.0.14\n",
      "  Downloading psycopg-3.1.8-py3-none-any.whl (167 kB)\n",
      "\u001b[2K     \u001b[90m━━━━━━━━━━━━━━━━━━━━━━━━━━━━━━━━━━━━━━\u001b[0m \u001b[32m167.4/167.4 kB\u001b[0m \u001b[31m22.4 MB/s\u001b[0m eta \u001b[36m0:00:00\u001b[0m\n",
      "\u001b[?25hCollecting cli-helpers[styles]>=2.2.1\n",
      "  Downloading cli_helpers-2.3.0-py3-none-any.whl (19 kB)\n",
      "Requirement already satisfied: prompt-toolkit<4.0.0,>=2.0.6 in /home/testuser/anaconda3/lib/python3.9/site-packages (from pgcli) (3.0.20)\n",
      "Requirement already satisfied: tabulate[widechars]>=0.8.2 in /home/testuser/anaconda3/lib/python3.9/site-packages (from cli-helpers[styles]>=2.2.1->pgcli) (0.8.10)\n",
      "Requirement already satisfied: six in /home/testuser/anaconda3/lib/python3.9/site-packages (from configobj>=5.0.6->pgcli) (1.16.0)\n",
      "Collecting pytzdata>=2020.1\n",
      "  Downloading pytzdata-2020.1-py2.py3-none-any.whl (489 kB)\n",
      "\u001b[2K     \u001b[90m━━━━━━━━━━━━━━━━━━━━━━━━━━━━━━━━━━━━━━\u001b[0m \u001b[32m490.0/490.0 kB\u001b[0m \u001b[31m37.2 MB/s\u001b[0m eta \u001b[36m0:00:00\u001b[0m\n",
      "\u001b[?25hRequirement already satisfied: python-dateutil<3.0,>=2.6 in /home/testuser/anaconda3/lib/python3.9/site-packages (from pendulum>=2.1.0->pgcli) (2.8.2)\n",
      "Requirement already satisfied: wcwidth in /home/testuser/anaconda3/lib/python3.9/site-packages (from prompt-toolkit<4.0.0,>=2.0.6->pgcli) (0.2.5)\n",
      "Requirement already satisfied: typing-extensions>=4.1 in /home/testuser/anaconda3/lib/python3.9/site-packages (from psycopg>=3.0.14->pgcli) (4.3.0)\n",
      "Installing collected packages: sqlparse, setproctitle, pytzdata, psycopg, configobj, pgspecial, pendulum, cli-helpers, pgcli\n",
      "Successfully installed cli-helpers-2.3.0 configobj-5.0.8 pendulum-2.1.2 pgcli-3.5.0 pgspecial-2.0.1 psycopg-3.1.8 pytzdata-2020.1 setproctitle-1.3.2 sqlparse-0.4.3\n"
     ]
    }
   ],
   "source": [
    "!pip install pgcli"
   ]
  },
  {
   "cell_type": "code",
   "execution_count": null,
   "id": "1724aa76",
   "metadata": {},
   "outputs": [],
   "source": []
  }
 ],
 "metadata": {
  "kernelspec": {
   "display_name": "Python 3 (ipykernel)",
   "language": "python",
   "name": "python3"
  },
  "language_info": {
   "codemirror_mode": {
    "name": "ipython",
    "version": 3
   },
   "file_extension": ".py",
   "mimetype": "text/x-python",
   "name": "python",
   "nbconvert_exporter": "python",
   "pygments_lexer": "ipython3",
   "version": "3.9.13"
  }
 },
 "nbformat": 4,
 "nbformat_minor": 5
}
