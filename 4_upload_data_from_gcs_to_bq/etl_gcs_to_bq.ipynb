{
 "cells": [
  {
   "cell_type": "code",
   "execution_count": 4,
   "id": "7c09481a",
   "metadata": {},
   "outputs": [],
   "source": [
    "from pathlib import Path\n",
    "import pandas as pd\n",
    "from prefect import flow, task\n",
    "from prefect_gcp.cloud_storage import GcsBucket\n",
    "from prefect_gcp import GcpCredentials"
   ]
  },
  {
   "cell_type": "code",
   "execution_count": null,
   "id": "40d356a7",
   "metadata": {},
   "outputs": [],
   "source": [
    "@task(retries=3)\n",
    "def extract_from_gcs():\n",
    "    \"\"\"Download trip data from GCS\"\"\"\n",
    "    gcs_path = \"youtube_data\"\n",
    "    gcs_block = GcsBucket.load(\"zoom-gcs\")\n",
    "    gcs_block.get_directory(from_path=gcs_path, local_path=f\"../data/\")\n",
    "    return Path(f\"../data/{gcs_path}\")\n",
    "\n",
    "@task()\n",
    "def write_bq(df: pd.DataFrame,color: str) -> None:\n",
    "    \"\"\"Write DataFrame to BiqQuery\"\"\"\n",
    "\n",
    "    gcp_credentials_block = GcpCredentials.load(\"zoom-gcp-creds\")\n",
    "\n",
    "    df.to_gbq(\n",
    "        destination_table= f\"dezoomcamp.rides_{color}\",\n",
    "        project_id=\"adept-storm-375515\",\n",
    "        credentials=gcp_credentials_block.get_credentials_from_service_account(),\n",
    "        chunksize=500_000,\n",
    "        if_exists=\"append\",\n",
    "    )\n",
    "\n",
    "@flow()\n",
    "def etl_gcs_to_bq():\n",
    "    \"\"\"Main ETL flow to load data into Big Query\"\"\"\n",
    "            path = extract_from_gcs(x, year, month)\n",
    "            df = transform(path)\n",
    "            write_bq(df,x)\n",
    "\n",
    "if __name__ == \"__main__\":\n",
    "    etl_gcs_to_bq()"
   ]
  },
  {
   "cell_type": "code",
   "execution_count": 2,
   "id": "b8ee6091",
   "metadata": {},
   "outputs": [],
   "source": [
    "def extract_from_gcs():\n",
    "    \"\"\"Download trip data from GCS\"\"\"\n",
    "    gcs_path = \"youtube_data\"\n",
    "    gcs_block = GcsBucket.load(\"zoom-gcs\")\n",
    "    gcs_block.get_directory(from_path=gcs_path, local_path=f\"../data/\")\n",
    "    return Path(f\"../data/{gcs_path}\")"
   ]
  },
  {
   "cell_type": "code",
   "execution_count": 5,
   "id": "a517e41a",
   "metadata": {},
   "outputs": [
    {
     "ename": "AttributeError",
     "evalue": "'coroutine' object has no attribute 'get_directory'",
     "output_type": "error",
     "traceback": [
      "\u001b[0;31m---------------------------------------------------------------------------\u001b[0m",
      "\u001b[0;31mAttributeError\u001b[0m                            Traceback (most recent call last)",
      "\u001b[0;32m/tmp/ipykernel_12143/4117955878.py\u001b[0m in \u001b[0;36m<module>\u001b[0;34m\u001b[0m\n\u001b[0;32m----> 1\u001b[0;31m \u001b[0mpath\u001b[0m \u001b[0;34m=\u001b[0m \u001b[0mextract_from_gcs\u001b[0m\u001b[0;34m(\u001b[0m\u001b[0;34m)\u001b[0m\u001b[0;34m\u001b[0m\u001b[0;34m\u001b[0m\u001b[0m\n\u001b[0m",
      "\u001b[0;32m/tmp/ipykernel_12143/496439402.py\u001b[0m in \u001b[0;36mextract_from_gcs\u001b[0;34m()\u001b[0m\n\u001b[1;32m      3\u001b[0m     \u001b[0mgcs_path\u001b[0m \u001b[0;34m=\u001b[0m \u001b[0;34m\"youtube_data\"\u001b[0m\u001b[0;34m\u001b[0m\u001b[0;34m\u001b[0m\u001b[0m\n\u001b[1;32m      4\u001b[0m     \u001b[0mgcs_block\u001b[0m \u001b[0;34m=\u001b[0m \u001b[0mGcsBucket\u001b[0m\u001b[0;34m.\u001b[0m\u001b[0mload\u001b[0m\u001b[0;34m(\u001b[0m\u001b[0;34m\"zoom-gcs\"\u001b[0m\u001b[0;34m)\u001b[0m\u001b[0;34m\u001b[0m\u001b[0;34m\u001b[0m\u001b[0m\n\u001b[0;32m----> 5\u001b[0;31m     \u001b[0mgcs_block\u001b[0m\u001b[0;34m.\u001b[0m\u001b[0mget_directory\u001b[0m\u001b[0;34m(\u001b[0m\u001b[0mfrom_path\u001b[0m\u001b[0;34m=\u001b[0m\u001b[0mgcs_path\u001b[0m\u001b[0;34m,\u001b[0m \u001b[0mlocal_path\u001b[0m\u001b[0;34m=\u001b[0m\u001b[0;34mf\"../data/\"\u001b[0m\u001b[0;34m)\u001b[0m\u001b[0;34m\u001b[0m\u001b[0;34m\u001b[0m\u001b[0m\n\u001b[0m\u001b[1;32m      6\u001b[0m     \u001b[0;32mreturn\u001b[0m \u001b[0mPath\u001b[0m\u001b[0;34m(\u001b[0m\u001b[0;34mf\"../data/{gcs_path}\"\u001b[0m\u001b[0;34m)\u001b[0m\u001b[0;34m\u001b[0m\u001b[0;34m\u001b[0m\u001b[0m\n",
      "\u001b[0;31mAttributeError\u001b[0m: 'coroutine' object has no attribute 'get_directory'"
     ]
    }
   ],
   "source": [
    "path = extract_from_gcs()"
   ]
  },
  {
   "cell_type": "code",
   "execution_count": null,
   "id": "696e77f7",
   "metadata": {},
   "outputs": [],
   "source": [
    "def write_bq(df: pd.DataFrame):\n",
    "    \"\"\"Write DataFrame to BiqQuery\"\"\"\n",
    "\n",
    "    gcp_credentials_block = GcpCredentials.load(\"zoom-gcp-creds\")\n",
    "\n",
    "    df.to_gbq(\n",
    "        destination_table= f\"dtc-de-youtube.youtube_data_all\",\n",
    "        project_id=\"dtc-de-youtube\",\n",
    "        credentials=gcp_credentials_block.get_credentials_from_service_account(),\n",
    "        chunksize=500_000,\n",
    "        if_exists=\"append\",\n",
    "    )"
   ]
  },
  {
   "cell_type": "code",
   "execution_count": 7,
   "id": "d8f3add2",
   "metadata": {},
   "outputs": [
    {
     "name": "stdout",
     "output_type": "stream",
     "text": [
      "<generator object Path.glob at 0x7f16d04d25f0>\n"
     ]
    }
   ],
   "source": [
    "print(Path('youtube_data').glob('*.parquet'))"
   ]
  },
  {
   "cell_type": "code",
   "execution_count": 10,
   "id": "4cdc2ef1",
   "metadata": {},
   "outputs": [
    {
     "name": "stdout",
     "output_type": "stream",
     "text": [
      "[]\n"
     ]
    }
   ],
   "source": [
    "import re\n",
    "s = \"file path .parquet\"\n",
    "print(re.findall(r'(?:/[^/]+)+?/\\w+\\.\\w+', s))"
   ]
  },
  {
   "cell_type": "code",
   "execution_count": null,
   "id": "71e8eedc",
   "metadata": {},
   "outputs": [],
   "source": [
    "def extract_from_gcs():\n",
    "    \"\"\"Download trip data from GCS\"\"\"\n",
    "    gcs_path = \"youtube_data\"\n",
    "    gcs_block = GcsBucket.load(\"zoom-gcs\")\n",
    "    gcs_block.get_directory(from_path=gcs_path, local_path=f\"../data/\")\n",
    "    return Path(f\"../data/{gcs_path}\")\n",
    "\n",
    "extract_from_gcs()"
   ]
  },
  {
   "cell_type": "code",
   "execution_count": 12,
   "id": "3432785f",
   "metadata": {},
   "outputs": [
    {
     "name": "stdout",
     "output_type": "stream",
     "text": [
      "Collecting pandas-gbq==0.18.1\n",
      "  Downloading pandas_gbq-0.18.1-py2.py3-none-any.whl (25 kB)\n",
      "Requirement already satisfied: pandas>=1.1.4 in /home/iamuser/anaconda3/lib/python3.9/site-packages (from pandas-gbq==0.18.1) (1.4.4)\n",
      "Requirement already satisfied: google-api-core<3.0.0dev,>=2.10.2 in /home/iamuser/anaconda3/lib/python3.9/site-packages (from pandas-gbq==0.18.1) (2.11.0)\n",
      "Collecting google-cloud-bigquery!=2.4.*,<4.0.0dev,>=3.3.5\n",
      "  Downloading google_cloud_bigquery-3.7.0-py2.py3-none-any.whl (215 kB)\n",
      "\u001b[2K     \u001b[90m━━━━━━━━━━━━━━━━━━━━━━━━━━━━━━━━━━━━━━\u001b[0m \u001b[32m215.5/215.5 kB\u001b[0m \u001b[31m17.2 MB/s\u001b[0m eta \u001b[36m0:00:00\u001b[0m\n",
      "\u001b[?25hCollecting pydata-google-auth>=1.4.0\n",
      "  Downloading pydata_google_auth-1.7.0-py2.py3-none-any.whl (14 kB)\n",
      "Requirement already satisfied: google-auth>=2.13.0 in /home/iamuser/anaconda3/lib/python3.9/site-packages (from pandas-gbq==0.18.1) (2.16.2)\n",
      "Collecting google-cloud-bigquery-storage<3.0.0dev,>=2.16.2\n",
      "  Downloading google_cloud_bigquery_storage-2.19.0-py2.py3-none-any.whl (190 kB)\n",
      "\u001b[2K     \u001b[90m━━━━━━━━━━━━━━━━━━━━━━━━━━━━━━━━━━━━━━\u001b[0m \u001b[32m190.2/190.2 kB\u001b[0m \u001b[31m21.0 MB/s\u001b[0m eta \u001b[36m0:00:00\u001b[0m\n",
      "\u001b[?25hRequirement already satisfied: pyarrow>=3.0.0 in /home/iamuser/anaconda3/lib/python3.9/site-packages (from pandas-gbq==0.18.1) (10.0.1)\n",
      "Collecting google-auth-oauthlib>=0.7.0\n",
      "  Downloading google_auth_oauthlib-1.0.0-py2.py3-none-any.whl (18 kB)\n",
      "Requirement already satisfied: numpy>=1.16.6 in /home/iamuser/anaconda3/lib/python3.9/site-packages (from pandas-gbq==0.18.1) (1.21.5)\n",
      "Requirement already satisfied: setuptools in /home/iamuser/anaconda3/lib/python3.9/site-packages (from pandas-gbq==0.18.1) (63.4.1)\n",
      "Collecting db-dtypes<2.0.0,>=1.0.4\n",
      "  Downloading db_dtypes-1.0.5-py2.py3-none-any.whl (14 kB)\n",
      "Requirement already satisfied: packaging>=17.0 in /home/iamuser/anaconda3/lib/python3.9/site-packages (from db-dtypes<2.0.0,>=1.0.4->pandas-gbq==0.18.1) (21.3)\n",
      "Requirement already satisfied: protobuf!=3.20.0,!=3.20.1,!=4.21.0,!=4.21.1,!=4.21.2,!=4.21.3,!=4.21.4,!=4.21.5,<5.0.0dev,>=3.19.5 in /home/iamuser/anaconda3/lib/python3.9/site-packages (from google-api-core<3.0.0dev,>=2.10.2->pandas-gbq==0.18.1) (4.21.11)\n",
      "Requirement already satisfied: googleapis-common-protos<2.0dev,>=1.56.2 in /home/iamuser/anaconda3/lib/python3.9/site-packages (from google-api-core<3.0.0dev,>=2.10.2->pandas-gbq==0.18.1) (1.58.0)\n",
      "Requirement already satisfied: requests<3.0.0dev,>=2.18.0 in /home/iamuser/anaconda3/lib/python3.9/site-packages (from google-api-core<3.0.0dev,>=2.10.2->pandas-gbq==0.18.1) (2.28.1)\n",
      "Requirement already satisfied: cachetools<6.0,>=2.0.0 in /home/iamuser/anaconda3/lib/python3.9/site-packages (from google-auth>=2.13.0->pandas-gbq==0.18.1) (5.3.0)\n",
      "Requirement already satisfied: pyasn1-modules>=0.2.1 in /home/iamuser/anaconda3/lib/python3.9/site-packages (from google-auth>=2.13.0->pandas-gbq==0.18.1) (0.2.8)\n",
      "Requirement already satisfied: rsa<5,>=3.1.4 in /home/iamuser/anaconda3/lib/python3.9/site-packages (from google-auth>=2.13.0->pandas-gbq==0.18.1) (4.9)\n",
      "Requirement already satisfied: six>=1.9.0 in /home/iamuser/anaconda3/lib/python3.9/site-packages (from google-auth>=2.13.0->pandas-gbq==0.18.1) (1.16.0)\n",
      "Requirement already satisfied: requests-oauthlib>=0.7.0 in /home/iamuser/anaconda3/lib/python3.9/site-packages (from google-auth-oauthlib>=0.7.0->pandas-gbq==0.18.1) (1.3.1)\n",
      "Requirement already satisfied: google-resumable-media<3.0dev,>=0.6.0 in /home/iamuser/anaconda3/lib/python3.9/site-packages (from google-cloud-bigquery!=2.4.*,<4.0.0dev,>=3.3.5->pandas-gbq==0.18.1) (2.4.1)\n",
      "Collecting proto-plus<2.0.0dev,>=1.15.0\n",
      "  Downloading proto_plus-1.22.2-py3-none-any.whl (47 kB)\n",
      "\u001b[2K     \u001b[90m━━━━━━━━━━━━━━━━━━━━━━━━━━━━━━━━━━━━━━━━\u001b[0m \u001b[32m47.9/47.9 kB\u001b[0m \u001b[31m7.0 MB/s\u001b[0m eta \u001b[36m0:00:00\u001b[0m\n",
      "\u001b[?25hRequirement already satisfied: python-dateutil<3.0dev,>=2.7.2 in /home/iamuser/anaconda3/lib/python3.9/site-packages (from google-cloud-bigquery!=2.4.*,<4.0.0dev,>=3.3.5->pandas-gbq==0.18.1) (2.8.2)\n",
      "Collecting grpcio<2.0dev,>=1.47.0\n",
      "  Downloading grpcio-1.51.3-cp39-cp39-manylinux_2_17_x86_64.manylinux2014_x86_64.whl (4.8 MB)\n",
      "\u001b[2K     \u001b[90m━━━━━━━━━━━━━━━━━━━━━━━━━━━━━━━━━━━━━━━━\u001b[0m \u001b[32m4.8/4.8 MB\u001b[0m \u001b[31m50.6 MB/s\u001b[0m eta \u001b[36m0:00:00\u001b[0m00:01\u001b[0m00:01\u001b[0m\n",
      "\u001b[?25hRequirement already satisfied: google-cloud-core<3.0.0dev,>=1.6.0 in /home/iamuser/anaconda3/lib/python3.9/site-packages (from google-cloud-bigquery!=2.4.*,<4.0.0dev,>=3.3.5->pandas-gbq==0.18.1) (2.3.2)\n",
      "Requirement already satisfied: pytz>=2020.1 in /home/iamuser/anaconda3/lib/python3.9/site-packages (from pandas>=1.1.4->pandas-gbq==0.18.1) (2022.1)\n",
      "Collecting grpcio-status<2.0dev,>=1.33.2\n",
      "  Downloading grpcio_status-1.51.3-py3-none-any.whl (5.1 kB)\n",
      "Requirement already satisfied: google-crc32c<2.0dev,>=1.0 in /home/iamuser/anaconda3/lib/python3.9/site-packages (from google-resumable-media<3.0dev,>=0.6.0->google-cloud-bigquery!=2.4.*,<4.0.0dev,>=3.3.5->pandas-gbq==0.18.1) (1.5.0)\n",
      "Requirement already satisfied: pyparsing!=3.0.5,>=2.0.2 in /home/iamuser/anaconda3/lib/python3.9/site-packages (from packaging>=17.0->db-dtypes<2.0.0,>=1.0.4->pandas-gbq==0.18.1) (3.0.9)\n",
      "Requirement already satisfied: pyasn1<0.5.0,>=0.4.6 in /home/iamuser/anaconda3/lib/python3.9/site-packages (from pyasn1-modules>=0.2.1->google-auth>=2.13.0->pandas-gbq==0.18.1) (0.4.8)\n",
      "Requirement already satisfied: certifi>=2017.4.17 in /home/iamuser/anaconda3/lib/python3.9/site-packages (from requests<3.0.0dev,>=2.18.0->google-api-core<3.0.0dev,>=2.10.2->pandas-gbq==0.18.1) (2022.9.14)\n",
      "Requirement already satisfied: charset-normalizer<3,>=2 in /home/iamuser/anaconda3/lib/python3.9/site-packages (from requests<3.0.0dev,>=2.18.0->google-api-core<3.0.0dev,>=2.10.2->pandas-gbq==0.18.1) (2.0.4)\n",
      "Requirement already satisfied: urllib3<1.27,>=1.21.1 in /home/iamuser/anaconda3/lib/python3.9/site-packages (from requests<3.0.0dev,>=2.18.0->google-api-core<3.0.0dev,>=2.10.2->pandas-gbq==0.18.1) (1.26.11)\n",
      "Requirement already satisfied: idna<4,>=2.5 in /home/iamuser/anaconda3/lib/python3.9/site-packages (from requests<3.0.0dev,>=2.18.0->google-api-core<3.0.0dev,>=2.10.2->pandas-gbq==0.18.1) (3.3)\n",
      "Requirement already satisfied: oauthlib>=3.0.0 in /home/iamuser/anaconda3/lib/python3.9/site-packages (from requests-oauthlib>=0.7.0->google-auth-oauthlib>=0.7.0->pandas-gbq==0.18.1) (3.2.2)\n",
      "Installing collected packages: proto-plus, grpcio, grpcio-status, google-auth-oauthlib, db-dtypes, pydata-google-auth, google-cloud-bigquery-storage, google-cloud-bigquery, pandas-gbq\n",
      "Successfully installed db-dtypes-1.0.5 google-auth-oauthlib-1.0.0 google-cloud-bigquery-3.7.0 google-cloud-bigquery-storage-2.19.0 grpcio-1.51.3 grpcio-status-1.51.3 pandas-gbq-0.18.1 proto-plus-1.22.2 pydata-google-auth-1.7.0\n"
     ]
    }
   ],
   "source": [
    "!pip install pandas-gbq==0.18.1"
   ]
  },
  {
   "cell_type": "code",
   "execution_count": 13,
   "id": "aa04297a",
   "metadata": {},
   "outputs": [
    {
     "name": "stderr",
     "output_type": "stream",
     "text": [
      "/home/iamuser/anaconda3/lib/python3.9/site-packages/google/api_core/gapic_v1/config.py:23: RuntimeWarning: coroutine 'Block.load' was never awaited\n",
      "  import grpc\n",
      "RuntimeWarning: Enable tracemalloc to get the object allocation traceback\n",
      "/home/iamuser/anaconda3/lib/python3.9/site-packages/google/auth/_default.py:78: UserWarning: Your application has authenticated using end user credentials from Google Cloud SDK without a quota project. You might receive a \"quota exceeded\" or \"API not enabled\" error. See the following page for troubleshooting: https://cloud.google.com/docs/authentication/adc-troubleshooting/user-creds. \n",
      "  warnings.warn(_CLOUD_SDK_CREDENTIALS_WARNING)\n",
      "/home/iamuser/anaconda3/lib/python3.9/site-packages/google/auth/_default.py:78: UserWarning: Your application has authenticated using end user credentials from Google Cloud SDK without a quota project. You might receive a \"quota exceeded\" or \"API not enabled\" error. See the following page for troubleshooting: https://cloud.google.com/docs/authentication/adc-troubleshooting/user-creds. \n",
      "  warnings.warn(_CLOUD_SDK_CREDENTIALS_WARNING)\n"
     ]
    }
   ],
   "source": [
    "from google.cloud import bigquery\n",
    "\n",
    "# Construct a BigQuery client object.\n",
    "client = bigquery.Client()"
   ]
  },
  {
   "cell_type": "code",
   "execution_count": null,
   "id": "975cc0a9",
   "metadata": {},
   "outputs": [],
   "source": [
    "# TODO(developer): Set table_id to the ID of the table to create.\n",
    "table_id = \"dtc-de-youtube.youtube_data_all.youtube_reviews\n",
    "\n",
    "# Set the encryption key to use for the destination.\n",
    "# TODO: Replace this key with a key you have created in KMS.\n",
    "kms_key_name = \"projects/{}/locations/{}/keyRings/{}/cryptoKeys/{}\".format(\n",
    "#     \"cloud-samples-tests\", \"us\", \"test\", \"test\"\n",
    "# )\n",
    "job_config = bigquery.LoadJobConfig(\n",
    "    autodetect=True, source_format=bigquery.SourceFormat.NEWLINE_DELIMITED_JSON\n",
    ")\n",
    "uri = \"gs://dtc_data_lake_youtube_dtc-de-youtube/youtube_data/20230314.parquet\"\n",
    "load_job = client.load_table_from_uri(\n",
    "    uri, table_id, job_config=job_config\n",
    ")  # Make an API request.\n",
    "load_job.result()  # Waits for the job to complete.\n",
    "destination_table = client.get_table(table_id)\n",
    "print(\"Loaded {} rows.\".format(destination_table.num_rows))"
   ]
  }
 ],
 "metadata": {
  "kernelspec": {
   "display_name": "Python 3 (ipykernel)",
   "language": "python",
   "name": "python3"
  },
  "language_info": {
   "codemirror_mode": {
    "name": "ipython",
    "version": 3
   },
   "file_extension": ".py",
   "mimetype": "text/x-python",
   "name": "python",
   "nbconvert_exporter": "python",
   "pygments_lexer": "ipython3",
   "version": "3.9.13"
  }
 },
 "nbformat": 4,
 "nbformat_minor": 5
}
