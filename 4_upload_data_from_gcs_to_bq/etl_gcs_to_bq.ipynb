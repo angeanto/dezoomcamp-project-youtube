{
 "cells": [
  {
   "cell_type": "code",
   "execution_count": 4,
   "id": "40d356a7",
   "metadata": {},
   "outputs": [],
   "source": [
    "from pathlib import Path\n",
    "import pandas as pd\n",
    "from prefect import flow, task\n",
    "from prefect_gcp.cloud_storage import GcsBucket\n",
    "from prefect_gcp import GcpCredentials\n",
    "from datetime import date\n",
    "\n",
    "def extract_from_gcs():\n",
    "    \"\"\"Download youtube data from GCS\"\"\"\n",
    "    today = date.today()\n",
    "    today = str(today).replace(\"-\", \"\")\n",
    "    local =f\"/home/testuser/dezoomcamp-project-youtube/4_upload_data_from_gcs_to_bq/{today}.parquet\"\n",
    "    gcs_path = f'youtube_data/{today}.parquet'\n",
    "    gcs_block = GcsBucket.load(\"zoom-gcs\")\n",
    "    gcs_block.get_directory(from_path=gcs_path, local_path=local)\n",
    "    print(Path(f\"{gcs_path}\"))\n",
    "    return Path(f\"{local}\")\n",
    "\n",
    "def transform(path: Path) -> pd.DataFrame:\n",
    "    \"\"\"Data cleaning example\"\"\"\n",
    "    df = pd.read_parquet(path)\n",
    "    print (len(df))\n",
    "    return df\n",
    "\n",
    "def write_bq(df: pd.DataFrame):\n",
    "    \"\"\"Write DataFrame to BiqQuery\"\"\"\n",
    "    gcp_credentials_block = GcpCredentials.load(\"zoom-gcp-creds\")\n",
    "    df.to_gbq(\n",
    "    destination_table= \"youtube_data_all.youtube_trends\",\n",
    "    project_id=\"dtc-de-youtube\",\n",
    "    credentials=gcp_credentials_block.get_credentials_from_service_account(),\n",
    "    chunksize=500_000,\n",
    "    if_exists=\"append\",\n",
    "    )\n",
    "    \n",
    "\n",
    "def etl_gcs_to_bq():\n",
    "    \"\"\"Main ETL flow to load data into Big Query\"\"\"\n",
    "    path = extract_from_gcs()\n",
    "    df = transform(path)\n",
    "    write_bq(df)"
   ]
  },
  {
   "cell_type": "code",
   "execution_count": 1,
   "id": "35c79127",
   "metadata": {},
   "outputs": [],
   "source": [
    "#!pip install pandas-gbq==0.18.1"
   ]
  },
  {
   "cell_type": "code",
   "execution_count": 7,
   "id": "1726e94d",
   "metadata": {},
   "outputs": [
    {
     "ename": "AttributeError",
     "evalue": "'coroutine' object has no attribute 'get_directory'",
     "output_type": "error",
     "traceback": [
      "\u001b[0;31m---------------------------------------------------------------------------\u001b[0m",
      "\u001b[0;31mAttributeError\u001b[0m                            Traceback (most recent call last)",
      "\u001b[0;32m/tmp/ipykernel_32920/4117955878.py\u001b[0m in \u001b[0;36m<module>\u001b[0;34m\u001b[0m\n\u001b[0;32m----> 1\u001b[0;31m \u001b[0mpath\u001b[0m \u001b[0;34m=\u001b[0m \u001b[0mextract_from_gcs\u001b[0m\u001b[0;34m(\u001b[0m\u001b[0;34m)\u001b[0m\u001b[0;34m\u001b[0m\u001b[0;34m\u001b[0m\u001b[0m\n\u001b[0m",
      "\u001b[0;32m/tmp/ipykernel_32920/3702824790.py\u001b[0m in \u001b[0;36mextract_from_gcs\u001b[0;34m()\u001b[0m\n\u001b[1;32m     13\u001b[0m     \u001b[0mgcs_path\u001b[0m \u001b[0;34m=\u001b[0m \u001b[0;34mf'youtube_data/{today}.parquet'\u001b[0m\u001b[0;34m\u001b[0m\u001b[0;34m\u001b[0m\u001b[0m\n\u001b[1;32m     14\u001b[0m     \u001b[0mgcs_block\u001b[0m \u001b[0;34m=\u001b[0m \u001b[0mGcsBucket\u001b[0m\u001b[0;34m.\u001b[0m\u001b[0mload\u001b[0m\u001b[0;34m(\u001b[0m\u001b[0;34m\"zoom-gcs\"\u001b[0m\u001b[0;34m)\u001b[0m\u001b[0;34m\u001b[0m\u001b[0;34m\u001b[0m\u001b[0m\n\u001b[0;32m---> 15\u001b[0;31m     \u001b[0mgcs_block\u001b[0m\u001b[0;34m.\u001b[0m\u001b[0mget_directory\u001b[0m\u001b[0;34m(\u001b[0m\u001b[0mfrom_path\u001b[0m\u001b[0;34m=\u001b[0m\u001b[0mgcs_path\u001b[0m\u001b[0;34m,\u001b[0m \u001b[0mlocal_path\u001b[0m\u001b[0;34m=\u001b[0m\u001b[0mlocal\u001b[0m\u001b[0;34m)\u001b[0m\u001b[0;34m\u001b[0m\u001b[0;34m\u001b[0m\u001b[0m\n\u001b[0m\u001b[1;32m     16\u001b[0m     \u001b[0;32mreturn\u001b[0m \u001b[0mPath\u001b[0m\u001b[0;34m(\u001b[0m\u001b[0;34mf\"{gcs_path}\"\u001b[0m\u001b[0;34m)\u001b[0m\u001b[0;34m\u001b[0m\u001b[0;34m\u001b[0m\u001b[0m\n\u001b[1;32m     17\u001b[0m \u001b[0;34m\u001b[0m\u001b[0m\n",
      "\u001b[0;31mAttributeError\u001b[0m: 'coroutine' object has no attribute 'get_directory'"
     ]
    }
   ],
   "source": [
    "path = extract_from_gcs()"
   ]
  },
  {
   "cell_type": "code",
   "execution_count": null,
   "id": "74de7486",
   "metadata": {},
   "outputs": [],
   "source": [
    "df = transform(path)"
   ]
  },
  {
   "cell_type": "code",
   "execution_count": null,
   "id": "a66e4c95",
   "metadata": {},
   "outputs": [],
   "source": [
    "write_bq(df)"
   ]
  }
 ],
 "metadata": {
  "kernelspec": {
   "display_name": "Python 3 (ipykernel)",
   "language": "python",
   "name": "python3"
  },
  "language_info": {
   "codemirror_mode": {
    "name": "ipython",
    "version": 3
   },
   "file_extension": ".py",
   "mimetype": "text/x-python",
   "name": "python",
   "nbconvert_exporter": "python",
   "pygments_lexer": "ipython3",
   "version": "3.9.13"
  }
 },
 "nbformat": 4,
 "nbformat_minor": 5
}
